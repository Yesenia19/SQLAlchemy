{
  "nbformat": 4,
  "nbformat_minor": 0,
  "metadata": {
    "colab": {
      "name": "SQLAlchemy.ipynb",
      "provenance": [],
      "collapsed_sections": [],
      "authorship_tag": "ABX9TyMmPrFyd1/kQTOmwxvQz8aO",
      "include_colab_link": true
    },
    "kernelspec": {
      "name": "python3",
      "display_name": "Python 3"
    },
    "language_info": {
      "name": "python"
    }
  },
  "cells": [
    {
      "cell_type": "markdown",
      "metadata": {
        "id": "view-in-github",
        "colab_type": "text"
      },
      "source": [
        "<a href=\"https://colab.research.google.com/github/Yesenia19/SQLAlchemy/blob/main/SQLAlchemy.ipynb\" target=\"_parent\"><img src=\"https://colab.research.google.com/assets/colab-badge.svg\" alt=\"Open In Colab\"/></a>"
      ]
    },
    {
      "cell_type": "markdown",
      "source": [
        "# **SQLAlchemy**\n",
        "Importamos de la libreria SQLAlchemy, los tipos de base de datos, el formato de los campos, operaciones CRUD y los elementos de la base de datos.\n"
      ],
      "metadata": {
        "id": "qryXyag4qddo"
      }
    },
    {
      "cell_type": "code",
      "execution_count": 1,
      "metadata": {
        "id": "VtZn7kgCkCMy"
      },
      "outputs": [],
      "source": [
        "from sqlalchemy import create_engine\n",
        "from sqlalchemy import MetaData\n",
        "from sqlalchemy import Table, Column, Integer, String\n",
        "from sqlalchemy import insert, select, update, delete"
      ]
    },
    {
      "cell_type": "markdown",
      "source": [
        "Indicamos la base de datos que ocuparemos y pasaremos parametros como el nombre del archivo donde se almacenara"
      ],
      "metadata": {
        "id": "rwHxmE9qrtKh"
      }
    },
    {
      "cell_type": "code",
      "source": [
        "engine = create_engine('sqlite:///prueba.db')"
      ],
      "metadata": {
        "id": "V0eBmBBFmqMu"
      },
      "execution_count": 2,
      "outputs": []
    },
    {
      "cell_type": "markdown",
      "source": [
        "Definimos los campos de las tablas y tipos de datos\n"
      ],
      "metadata": {
        "id": "gYZKJyz5sBkg"
      }
    },
    {
      "cell_type": "code",
      "source": [
        "metadata = MetaData()"
      ],
      "metadata": {
        "id": "8sRvFT_unuRo"
      },
      "execution_count": 4,
      "outputs": []
    },
    {
      "cell_type": "markdown",
      "source": [
        "Creamos nuestra tabla y los tipos de datos que llevara cada campo"
      ],
      "metadata": {
        "id": "KCKV0TxqsVSB"
      }
    },
    {
      "cell_type": "code",
      "source": [
        "clientes =Table(\n",
        "    'clientes', metadata,\n",
        "    Column('id_cliente', Integer, primary_key=True),\n",
        "    Column('nombre', String, nullable=False),\n",
        "    Column('email', String, nullable=False),\n",
        ")"
      ],
      "metadata": {
        "id": "Mc_wUGGsone3"
      },
      "execution_count": 5,
      "outputs": []
    },
    {
      "cell_type": "markdown",
      "source": [
        "Creamos todas las base de datos"
      ],
      "metadata": {
        "id": "wFe5jCCFslWL"
      }
    },
    {
      "cell_type": "code",
      "source": [
        "metadata.create_all(engine)"
      ],
      "metadata": {
        "id": "0BF2TWxaopji"
      },
      "execution_count": 6,
      "outputs": []
    },
    {
      "cell_type": "markdown",
      "source": [
        "Mandamos e insertamos los datos en la tabla clientes"
      ],
      "metadata": {
        "id": "keCdNbUqsv31"
      }
    },
    {
      "cell_type": "code",
      "source": [
        "stmt = insert(clientes).values(nombre=\"Cliente 1\", email=\"clientes@mail.com\") \n",
        "print(type(stmt))\n",
        "print(stmt)"
      ],
      "metadata": {
        "colab": {
          "base_uri": "https://localhost:8080/"
        },
        "id": "N1OI_e77pCAj",
        "outputId": "ac4281ec-bce6-456d-ff53-191d9642e26e"
      },
      "execution_count": 7,
      "outputs": [
        {
          "output_type": "stream",
          "name": "stdout",
          "text": [
            "<class 'sqlalchemy.sql.dml.Insert'>\n",
            "INSERT INTO clientes (nombre, email) VALUES (:nombre, :email)\n"
          ]
        }
      ]
    },
    {
      "cell_type": "markdown",
      "source": [
        "Conectamos a la base de datos.\n",
        "\n",
        "\n",
        "> With nos permite abrir la conexión y cerrarla automaticamente\n",
        "\n"
      ],
      "metadata": {
        "id": "YOfewfGG2lPH"
      }
    },
    {
      "cell_type": "code",
      "source": [
        "with engine.connect() as conn:\n",
        "    result = conn.execute(stmt)"
      ],
      "metadata": {
        "id": "pkvYj4zIpJT_"
      },
      "execution_count": 8,
      "outputs": []
    },
    {
      "cell_type": "markdown",
      "source": [
        "Tambien podemos insertar varios clientes haciendo un arreglo "
      ],
      "metadata": {
        "id": "mQIWV94-3W6p"
      }
    },
    {
      "cell_type": "code",
      "source": [
        "data =[\n",
        "    {\"nombre\": \"Cliente 2\", \"email\": \"email1@email.com\"},\n",
        "    {\"nombre\": \"Cliente 3\", \"email\": \"email2@email.com\"},\n",
        "    {\"nombre\": \"Cliente 4\", \"email\": \"email3@email.com\"}\n",
        "]\n",
        "stmt = insert(clientes).values(data)\n",
        "print(type(stmt))\n",
        "print(stmt)"
      ],
      "metadata": {
        "colab": {
          "base_uri": "https://localhost:8080/"
        },
        "id": "KLsL32b1pKKD",
        "outputId": "5b325d14-753b-4e64-ff01-f81dd30a96ce"
      },
      "execution_count": 9,
      "outputs": [
        {
          "output_type": "stream",
          "name": "stdout",
          "text": [
            "<class 'sqlalchemy.sql.dml.Insert'>\n",
            "INSERT INTO clientes (nombre, email) VALUES (:nombre_m0, :email_m0), (:nombre_m1, :email_m1), (:nombre_m2, :email_m2)\n"
          ]
        }
      ]
    },
    {
      "cell_type": "markdown",
      "source": [
        "Conectamos a la base de datos.\n",
        "\n",
        "\n",
        "> With nos permite abrir la conexión y cerrarla automaticamente\n",
        "\n"
      ],
      "metadata": {
        "id": "rTtqa1li4Wn5"
      }
    },
    {
      "cell_type": "code",
      "source": [
        "with engine.connect() as conn:\n",
        "    result = conn.execute(stmt)"
      ],
      "metadata": {
        "id": "ST4eu7BvpTk7"
      },
      "execution_count": 10,
      "outputs": []
    },
    {
      "cell_type": "markdown",
      "source": [
        "Hacemos una consulta para ver todos los registros de la tabla clientes"
      ],
      "metadata": {
        "id": "aDkX9_uu4kjn"
      }
    },
    {
      "cell_type": "code",
      "source": [
        "stmt =select(clientes)\n",
        "print(type(stmt))\n",
        "print(stmt)"
      ],
      "metadata": {
        "colab": {
          "base_uri": "https://localhost:8080/"
        },
        "id": "-VRyGYZNpayS",
        "outputId": "2ecd5854-d77e-4205-8d12-276eeedb1363"
      },
      "execution_count": 11,
      "outputs": [
        {
          "output_type": "stream",
          "name": "stdout",
          "text": [
            "<class 'sqlalchemy.sql.selectable.Select'>\n",
            "SELECT clientes.id_cliente, clientes.nombre, clientes.email \n",
            "FROM clientes\n"
          ]
        }
      ]
    },
    {
      "cell_type": "markdown",
      "source": [
        "Imprime los datos que anteriormente hicimos consulta y les damos forma"
      ],
      "metadata": {
        "id": "xGKRT2pi5A3F"
      }
    },
    {
      "cell_type": "code",
      "source": [
        "with engine.connect() as conn:\n",
        "    result = conn.execute(stmt)\n",
        "    for row in result.fetchall():\n",
        "        print(row)"
      ],
      "metadata": {
        "colab": {
          "base_uri": "https://localhost:8080/"
        },
        "id": "Szsd20w9pgbV",
        "outputId": "897bdad4-66ff-4a23-9865-08e7e124bd61"
      },
      "execution_count": 13,
      "outputs": [
        {
          "output_type": "stream",
          "name": "stdout",
          "text": [
            "(1, 'Cliente 1', 'clientes@mail.com')\n",
            "(2, 'Cliente 2', 'email1@email.com')\n",
            "(3, 'Cliente 3', 'email2@email.com')\n",
            "(4, 'Cliente 4', 'email3@email.com')\n"
          ]
        }
      ]
    }
  ]
}